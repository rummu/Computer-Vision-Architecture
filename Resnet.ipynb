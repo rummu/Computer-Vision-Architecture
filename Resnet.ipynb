{
 "cells": [
  {
   "cell_type": "code",
   "execution_count": 31,
   "id": "ff1c570e",
   "metadata": {},
   "outputs": [],
   "source": [
    "# import numpy as np\n",
    "\n",
    "\n",
    "# def get_random_eraser(p=0.5, s_l=0.02, s_h=0.4, r_1=0.3, r_2=1/0.3, v_l=0, v_h=255, pixel_level=False):\n",
    "#     def eraser(input_img):\n",
    "#         img_h, img_w, img_c = input_img.shape\n",
    "#         p_1 = np.random.rand()\n",
    "\n",
    "#         if p_1 > p:\n",
    "#             return input_img\n",
    "\n",
    "#         while True:\n",
    "#             s = np.random.uniform(s_l, s_h) * img_h * img_w\n",
    "#             r = np.random.uniform(r_1, r_2)\n",
    "#             w = int(np.sqrt(s / r))\n",
    "#             h = int(np.sqrt(s * r))\n",
    "#             left = np.random.randint(0, img_w)\n",
    "#             top = np.random.randint(0, img_h)\n",
    "\n",
    "#             if left + w <= img_w and top + h <= img_h:\n",
    "#                 break\n",
    "\n",
    "#         if pixel_level:\n",
    "#             c = np.random.uniform(v_l, v_h, (h, w, img_c))\n",
    "#         else:\n",
    "#             c = np.random.uniform(v_l, v_h)\n",
    "\n",
    "#         input_img[top:top + h, left:left + w, :] = c\n",
    "\n",
    "#         return input_img\n",
    "\n",
    "#     return eraser"
   ]
  },
  {
   "cell_type": "code",
   "execution_count": 32,
   "id": "8a9c3f5d",
   "metadata": {},
   "outputs": [],
   "source": [
    "from tensorflow.keras.applications.resnet50 import ResNet50, preprocess_input\n",
    "import tensorflow.keras as keras\n",
    "from tensorflow.keras.models import Model, Sequential\n",
    "from tensorflow.keras.layers import Input, UpSampling2D, Flatten, BatchNormalization, Dense, Dropout, GlobalAveragePooling2D\n",
    "from tensorflow.keras import optimizers\n",
    "from tensorflow.keras.datasets import cifar100\n",
    "import tensorflow as tf\n",
    "import numpy as np\n",
    "import matplotlib.pyplot as plt\n",
    "import time\n",
    "from skimage.transform import resize\n",
    "from tensorflow.keras.applications.resnet50 import preprocess_input, decode_predictions\n",
    "from tensorflow.keras.preprocessing.image import ImageDataGenerator"
   ]
  },
  {
   "cell_type": "code",
   "execution_count": 33,
   "id": "79b0eea4",
   "metadata": {},
   "outputs": [],
   "source": [
    "num_classes = 100\n",
    "nb_epochs = 10\n",
    "\n",
    "(x_train, y_train), (x_test, y_test) = cifar100.load_data()\n",
    "\n",
    "#Pre-process the data\n",
    "x_train = preprocess_input(x_train)\n",
    "x_test = preprocess_input(x_test)\n",
    "\n",
    "datagen = ImageDataGenerator()\n",
    "datagen.fit(x_train)"
   ]
  },
  {
   "cell_type": "code",
   "execution_count": 24,
   "id": "e6c8ca60",
   "metadata": {},
   "outputs": [],
   "source": [
    "from tensorflow.keras.utils import to_categorical\n",
    "from keras.utils import np_utils\n",
    "y_train = np_utils.to_categorical(y_train, num_classes)\n",
    "y_test = np_utils.to_categorical(y_test, num_classes)"
   ]
  },
  {
   "cell_type": "code",
   "execution_count": 25,
   "id": "5c3ef75f",
   "metadata": {},
   "outputs": [],
   "source": [
    "resnet_model = ResNet50(weights='imagenet', include_top=False, input_shape=(224, 224, 3))\n",
    "\n",
    "for layer in resnet_model.layers:\n",
    "    if isinstance(layer, BatchNormalization):\n",
    "        layer.trainable = True\n",
    "    else:\n",
    "        layer.trainable = False\n",
    "\n",
    "model = Sequential()\n",
    "model.add(UpSampling2D())\n",
    "model.add(UpSampling2D())\n",
    "model.add(UpSampling2D())\n",
    "model.add(resnet_model)\n",
    "model.add(GlobalAveragePooling2D())\n",
    "model.add(Dense(256, activation='relu'))\n",
    "model.add(Dropout(.25))\n",
    "model.add(BatchNormalization())\n",
    "model.add(Dense(num_classes, activation='softmax'))"
   ]
  },
  {
   "cell_type": "code",
   "execution_count": 26,
   "id": "0aa8f636",
   "metadata": {},
   "outputs": [],
   "source": [
    "#Optimizer\n",
    "model.compile(loss='categorical_crossentropy',optimizer='adam',metrics=['accuracy'])"
   ]
  },
  {
   "cell_type": "code",
   "execution_count": 36,
   "id": "99166d1e",
   "metadata": {},
   "outputs": [
    {
     "name": "stdout",
     "output_type": "stream",
     "text": [
      "Model: \"sequential_1\"\n",
      "_________________________________________________________________\n",
      "Layer (type)                 Output Shape              Param #   \n",
      "=================================================================\n",
      "up_sampling2d_3 (UpSampling2 (1, 64, 64, 3)            0         \n",
      "_________________________________________________________________\n",
      "up_sampling2d_4 (UpSampling2 (1, 128, 128, 3)          0         \n",
      "_________________________________________________________________\n",
      "up_sampling2d_5 (UpSampling2 (1, 256, 256, 3)          0         \n",
      "_________________________________________________________________\n",
      "resnet50 (Functional)        (None, 7, 7, 2048)        23587712  \n",
      "_________________________________________________________________\n",
      "global_average_pooling2d_1 ( (1, 2048)                 0         \n",
      "_________________________________________________________________\n",
      "dense_2 (Dense)              (1, 256)                  524544    \n",
      "_________________________________________________________________\n",
      "dropout_1 (Dropout)          (1, 256)                  0         \n",
      "_________________________________________________________________\n",
      "batch_normalization_1 (Batch (1, 256)                  1024      \n",
      "_________________________________________________________________\n",
      "dense_3 (Dense)              (1, 100)                  25700     \n",
      "=================================================================\n",
      "Total params: 24,138,980\n",
      "Trainable params: 603,876\n",
      "Non-trainable params: 23,535,104\n",
      "_________________________________________________________________\n"
     ]
    }
   ],
   "source": [
    "model.summary()"
   ]
  },
  {
   "cell_type": "code",
   "execution_count": null,
   "id": "ccae395c",
   "metadata": {},
   "outputs": [],
   "source": [
    "\n",
    "t=time.time()\n",
    "# x_train.shape[0] // 64\n",
    "historytemp = model.fit_generator(datagen.flow(x_train, y_train,\n",
    "                                  batch_size=1),\n",
    "                                  steps_per_epoch=1,\n",
    "                                  epochs=1,\n",
    "                                  validation_data=(x_test, y_test))\n",
    "print('Training time: %s' % (t - time.time()))"
   ]
  },
  {
   "cell_type": "code",
   "execution_count": null,
   "id": "53e9af69",
   "metadata": {},
   "outputs": [],
   "source": []
  },
  {
   "cell_type": "code",
   "execution_count": null,
   "id": "0405fb11",
   "metadata": {},
   "outputs": [],
   "source": []
  }
 ],
 "metadata": {
  "kernelspec": {
   "display_name": "Python 3 (ipykernel)",
   "language": "python",
   "name": "python3"
  },
  "language_info": {
   "codemirror_mode": {
    "name": "ipython",
    "version": 3
   },
   "file_extension": ".py",
   "mimetype": "text/x-python",
   "name": "python",
   "nbconvert_exporter": "python",
   "pygments_lexer": "ipython3",
   "version": "3.9.7"
  }
 },
 "nbformat": 4,
 "nbformat_minor": 5
}
